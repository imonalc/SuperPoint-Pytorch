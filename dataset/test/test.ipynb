{
 "cells": [
  {
   "cell_type": "code",
   "execution_count": 1,
   "metadata": {},
   "outputs": [],
   "source": [
    "import numpy as np\n",
    "import cv2\n",
    "import cv2 as cv\n",
    "from synthetic_dataset import *\n",
    "from spherical_module import *"
   ]
  },
  {
   "cell_type": "code",
   "execution_count": 2,
   "metadata": {},
   "outputs": [],
   "source": [
    "def draw_interest_points(img, points):\n",
    "    \"\"\" Convert img in RGB and draw in green the interest points \"\"\"\n",
    "    img_rgb = np.stack([img, img, img], axis=2)\n",
    "    for i in range(points.shape[0]):\n",
    "        cv.circle(img_rgb, (points[i][0], points[i][1]), 5, (0, 255, 0), -1)\n",
    "    return img_rgb"
   ]
  },
  {
   "cell_type": "code",
   "execution_count": 12,
   "metadata": {},
   "outputs": [],
   "source": [
    "res_std = 256\n",
    "b_img = generate_background(size=(res_std*2, res_std*4))\n",
    "#b_img = generate_background(size=(1024, 2048)) /255\n",
    "#cv.imshow('Random Lines', cv.resize(b_img, (1024, 512)))\n",
    "#cv2.imwrite('b_img.png', b_img*255)\n",
    "#cv.waitKey(0)\n",
    "#cv.destroyAllWindows()"
   ]
  },
  {
   "cell_type": "code",
   "execution_count": 21,
   "metadata": {},
   "outputs": [],
   "source": [
    "b_images, output_sqr = create_cube_imgs(b_img)\n",
    "images = []\n",
    "all_points_list = []\n",
    "for idx, img in enumerate(b_images):\n",
    "    if len(img.shape) == 3:\n",
    "        img = img[:, :, 0]/255\n",
    "    if img.shape != (res_std, res_std):\n",
    "        img = cv.resize(img, (res_std, res_std))\n",
    "    img *= 255\n",
    "    #points = draw_polygon(img)\n",
    "    #points = draw_lines(img)\n",
    "    #points = draw_multiple_polygons(img)\n",
    "    #points = draw_ellipses(img)\n",
    "    #points = draw_star(img)\n",
    "    #points = draw_checkerboard(img)\n",
    "    #points = draw_stripes(img)\n",
    "    #points = draw_cube(img)\n",
    "\n",
    "    #points = draw_lines(img)\n",
    "    #all_points_list.append(points)\n",
    "    flag_one = 0\n",
    "    if flag_one:\n",
    "        if idx == 5:\n",
    "            points = draw_lines(img)\n",
    "            all_points_list.append(points)\n",
    "            cv.imshow('Random Lines', img)\n",
    "            cv2.imwrite('aaa_img.png', img*255)\n",
    "            cv.waitKey(0)\n",
    "            cv.destroyAllWindows()\n",
    "        else:\n",
    "            all_points_list.append([])\n",
    "    else:\n",
    "        #points = draw_lines(img)\n",
    "        points = draw_polygon(img)\n",
    "        all_points_list.append(points)\n",
    "\n",
    "    #points = gaussian_noise(img)\n",
    "    #print(points)\n",
    "    if False:\n",
    "        img = draw_interest_points(img, points)\n",
    "        img = cv2.cvtColor(img, cv2.COLOR_BGR2GRAY)\n",
    "\n",
    "    images.append(img)"
   ]
  },
  {
   "cell_type": "code",
   "execution_count": 22,
   "metadata": {},
   "outputs": [],
   "source": [
    "# 6枚の画像を1枚のキューブマップ画像に結合する\n",
    "cube_map_size = (res_std * 3, res_std * 4)  # キューブマップのサイズ\n",
    "cube_map = np.zeros(cube_map_size, dtype=np.uint8)\n",
    "\n",
    "positions = [(res_std, res_std), (res_std, 0), (res_std, res_std*3), \n",
    "             (res_std, res_std*2), (0, res_std), (res_std*2, res_std)]\n",
    "for idx, (pos, img) in enumerate(zip(positions, images)):\n",
    "    cube_map[pos[0]:pos[0]+res_std, pos[1]:pos[1]+res_std] = img\n",
    "\n",
    "flag_cube_points_vis = False\n",
    "if flag_cube_points_vis:\n",
    "    for idx, (pos, img) in enumerate(zip(positions, images)):\n",
    "        all_points_list[idx][:, 0] += pos[1]\n",
    "        all_points_list[idx][:, 1] += pos[0]\n",
    "    points = np.concatenate(all_points_list, axis=0)\n",
    "    cube_map = draw_interest_points(cube_map, points)\n",
    "    #cube_map = cv2.cvtColor(cube_map, cv2.COLOR_BGR2GRAY)\n",
    "    cv.imshow('Random Lines', cv.resize(cube_map, (600, 400)))\n",
    "    cv2.imwrite('cube_img.png', cube_map)\n",
    "    cv.waitKey(0)\n",
    "    cv.destroyAllWindows()\n",
    "cv.imshow('Random Lines', cv.resize(cube_map, (600, 400)))\n",
    "cv2.imwrite('cube_img.png', cube_map)\n",
    "cv.waitKey(0)\n",
    "cv.destroyAllWindows()"
   ]
  },
  {
   "cell_type": "code",
   "execution_count": null,
   "metadata": {},
   "outputs": [],
   "source": []
  },
  {
   "cell_type": "code",
   "execution_count": 23,
   "metadata": {},
   "outputs": [],
   "source": [
    "def cubemap_to_equirectangular_coord(face, x, y, cubemap_size=256):\n",
    "    \"\"\"\n",
    "    Convert cubemap coordinates to equirectangular coordinates.\n",
    "\n",
    "    Parameters:\n",
    "    - face: The cubemap face index (0: front, 1: back, 2: right, 3: left, 4: top, 5: bottom).\n",
    "    - x, y: Coordinates on the specified cubemap face.\n",
    "    - cubemap_size: Size of each face of the cubemap.\n",
    "\n",
    "    Returns:\n",
    "    A tuple (equirect_x, equirect_y) of the equirectangular coordinates.\n",
    "    \"\"\"\n",
    "    \n",
    "\n",
    "    # Convert cubemap (x, y) to 3D coordinates\n",
    "    nx = (x / cubemap_size) * 2 - 1\n",
    "    ny = (y / cubemap_size) * 2 - 1\n",
    "    if face == 0: # Front\n",
    "        vector = np.array([nx, -1, ny])\n",
    "        std = 1.5\n",
    "    elif face == 1: # Back\n",
    "        vector = np.array([nx, -1, ny])\n",
    "        std = 1\n",
    "    elif face == 2: # Right\n",
    "        vector = np.array([nx, -1, ny])\n",
    "        std = 0.5\n",
    "    elif face == 3: # Left\n",
    "        vector = np.array([-nx, 1, ny])\n",
    "        std = 1\n",
    "    elif face == 4: # Top\n",
    "        vector = np.array([ny, nx, -1])\n",
    "        std = 1\n",
    "    elif face == 5: # Bottom\n",
    "        vector = np.array([ny, -nx, 1])\n",
    "        std = 0\n",
    "\n",
    "    # Normalize vector\n",
    "    vector = vector / np.linalg.norm(vector)\n",
    "\n",
    "    # Convert 3D vector to spherical coordinates\n",
    "    longitude = np.arctan2(vector[1], vector[0])\n",
    "    latitude = np.arcsin(vector[2])\n",
    "\n",
    "    # Convert spherical coordinates to equirectangular\n",
    "    equirect_width = cubemap_size * 4\n",
    "    equirect_height = cubemap_size * 2\n",
    "    \n",
    "    equirect_x = ((longitude + np.pi* std) / (2 * np.pi)+1) * equirect_width % equirect_width\n",
    "    equirect_y = (latitude + np.pi / 2) / np.pi * equirect_height\n",
    "\n",
    "    return (equirect_x, equirect_y)"
   ]
  },
  {
   "cell_type": "code",
   "execution_count": null,
   "metadata": {},
   "outputs": [],
   "source": []
  },
  {
   "cell_type": "code",
   "execution_count": 29,
   "metadata": {},
   "outputs": [],
   "source": [
    "points_sph = []\n",
    "for idx in range(len(all_points_list)):\n",
    "    points_tgt = all_points_list[idx]\n",
    "    for (x_cube, y_cube) in points_tgt:\n",
    "        #x_sph, y_sph = cube_to_equirectangular(x_cube, y_cube, idx)\n",
    "        x_sph, y_sph = cubemap_to_equirectangular_coord(idx, x_cube, y_cube)\n",
    "        x_sph = (int(x_sph + 0.5) + res_std*4) % (res_std*4)\n",
    "        y_sph = (int(y_sph + 0.5) + res_std*2) % (res_std*2)\n",
    "        points_sph.append([x_sph, y_sph])\n",
    "points_sph = np.array(points_sph)"
   ]
  },
  {
   "cell_type": "code",
   "execution_count": 30,
   "metadata": {},
   "outputs": [
    {
     "name": "stdout",
     "output_type": "stream",
     "text": [
      "(512, 1024)\n"
     ]
    }
   ],
   "source": [
    "eq_img = cube_to_equirectangular_np(cube_map, res_std*4)\n",
    "print(eq_img.shape)\n",
    "if True:\n",
    "    eq_img = draw_interest_points(eq_img, points_sph)\n",
    "    #eq_img = cv2.cvtColor(img, cv2.COLOR_BGR2GRAY)\n",
    "    cv.imshow('Random Lines', cv.resize(eq_img, (res_std*4, res_std*2)))\n",
    "    cv2.imwrite('eq_img.png', eq_img*255)\n",
    "    cv.waitKey(0)\n",
    "    cv.destroyAllWindows()"
   ]
  },
  {
   "cell_type": "code",
   "execution_count": 31,
   "metadata": {},
   "outputs": [
    {
     "data": {
      "text/plain": [
       "array([[551, 231],\n",
       "       [507, 233],\n",
       "       [515, 214],\n",
       "       [540, 212],\n",
       "       [181, 336],\n",
       "       [150, 316],\n",
       "       [182, 320],\n",
       "       [942, 336],\n",
       "       [938, 323],\n",
       "       [958, 327],\n",
       "       [759, 217],\n",
       "       [727, 228],\n",
       "       [738, 196],\n",
       "       [689,  53],\n",
       "       [505,  79],\n",
       "       [131,  90],\n",
       "       [617, 499],\n",
       "       [234, 467],\n",
       "       [419, 393]])"
      ]
     },
     "execution_count": 31,
     "metadata": {},
     "output_type": "execute_result"
    }
   ],
   "source": [
    "points_sph"
   ]
  },
  {
   "cell_type": "code",
   "execution_count": 32,
   "metadata": {},
   "outputs": [],
   "source": [
    "#b_img = generate_background(size=(1024, 2048)) /255\n",
    "##cv.imshow('Random Lines', b_img)\n",
    "#cv.waitKey(0)\n",
    "#cv.destroyAllWindows()"
   ]
  },
  {
   "cell_type": "code",
   "execution_count": 33,
   "metadata": {},
   "outputs": [],
   "source": [
    "#result_image_ndarray = np.where(eq_img*255 == 254, b_img, eq_img)\n",
    "#result = cv2.resize(result_image_ndarray, (1024, 512))\n",
    "#cv.imshow('Random Lines', result)\n",
    "#cv2.imwrite('result.png', result*255)\n",
    "#cv.waitKey(0)\n",
    "#cv.destroyAllWindows()"
   ]
  },
  {
   "cell_type": "code",
   "execution_count": null,
   "metadata": {},
   "outputs": [],
   "source": []
  },
  {
   "cell_type": "code",
   "execution_count": null,
   "metadata": {},
   "outputs": [],
   "source": []
  },
  {
   "cell_type": "code",
   "execution_count": null,
   "metadata": {},
   "outputs": [],
   "source": []
  },
  {
   "cell_type": "code",
   "execution_count": null,
   "metadata": {},
   "outputs": [],
   "source": []
  }
 ],
 "metadata": {
  "kernelspec": {
   "display_name": "super",
   "language": "python",
   "name": "python3"
  },
  "language_info": {
   "codemirror_mode": {
    "name": "ipython",
    "version": 3
   },
   "file_extension": ".py",
   "mimetype": "text/x-python",
   "name": "python",
   "nbconvert_exporter": "python",
   "pygments_lexer": "ipython3",
   "version": "3.9.18"
  }
 },
 "nbformat": 4,
 "nbformat_minor": 2
}
