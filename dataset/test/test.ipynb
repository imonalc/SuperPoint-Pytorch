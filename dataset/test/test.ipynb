{
 "cells": [
  {
   "cell_type": "code",
   "execution_count": 64,
   "metadata": {},
   "outputs": [],
   "source": [
    "import numpy as np\n",
    "import cv2\n",
    "import cv2 as cv\n",
    "from synthetic_dataset import *\n",
    "from spherical_module import *"
   ]
  },
  {
   "cell_type": "code",
   "execution_count": 65,
   "metadata": {},
   "outputs": [],
   "source": [
    "def draw_interest_points(img, points):\n",
    "    \"\"\" Convert img in RGB and draw in green the interest points \"\"\"\n",
    "    img_rgb = np.stack([img, img, img], axis=2)\n",
    "    for i in range(points.shape[0]):\n",
    "        cv.circle(img_rgb, (points[i][0], points[i][1]), 5, (0, 0, 0), -1)\n",
    "    return img_rgb"
   ]
  },
  {
   "cell_type": "code",
   "execution_count": null,
   "metadata": {},
   "outputs": [],
   "source": []
  },
  {
   "cell_type": "code",
   "execution_count": 66,
   "metadata": {},
   "outputs": [],
   "source": [
    "#b_img = generate_background(size=(1024, 2048)) /255\n",
    "b_img = generate_background(size=(1024, 2048))\n",
    "#cv.imshow('Random Lines', cv.resize(b_img, (1024, 512)))\n",
    "#cv2.imwrite('b_img.png', b_img*255)\n",
    "#cv.waitKey(0)\n",
    "#cv.destroyAllWindows()"
   ]
  },
  {
   "cell_type": "code",
   "execution_count": 70,
   "metadata": {},
   "outputs": [],
   "source": [
    "b_images, output_sqr = create_cube_imgs(b_img)\n",
    "images = []\n",
    "for img in b_images:\n",
    "    if len(img.shape) == 3:\n",
    "        img = img[:, :, 0]/255\n",
    "    if img.shape != (512, 512):\n",
    "        img = cv.resize(img, (512, 512))\n",
    "    img *= 255\n",
    "    #points = draw_polygon(img)\n",
    "    #points = draw_lines(img)\n",
    "    #points = draw_multiple_polygons(img)\n",
    "    #points = draw_ellipses(img)\n",
    "    #points = draw_star(img)\n",
    "    #points = draw_checkerboard(img)\n",
    "    #points = draw_stripes(img)\n",
    "    points = draw_cube(img)\n",
    "    #points = gaussian_noise(img)\n",
    "    #print(points)\n",
    "    if False:\n",
    "        img = draw_interest_points(img, points)\n",
    "        img = cv2.cvtColor(img, cv2.COLOR_BGR2GRAY)\n",
    "\n",
    "    images.append(img)"
   ]
  },
  {
   "cell_type": "code",
   "execution_count": 71,
   "metadata": {},
   "outputs": [],
   "source": [
    "# 6枚の画像を1枚のキューブマップ画像に結合する\n",
    "cube_map_size = (512 * 3, 512 * 4)  # キューブマップのサイズ\n",
    "cube_map = np.zeros(cube_map_size, dtype=np.uint8)\n",
    "\n",
    "# キューブマップの配置（上面、前面、右面、背面、左面、下面）\n",
    "positions = [(512, 512), (512, 0), (512, 1536), (512, 1024), (0, 512), (1024, 512)]\n",
    "for pos, img in zip(positions, images):\n",
    "    cube_map[pos[0]:pos[0]+512, pos[1]:pos[1]+512] = img\n",
    "\n",
    "#cv.imshow('Random Lines', cv.resize(cube_map, (1200, 800)))\n",
    "#cv2.imwrite('cube_img.png', cube_map*255)\n",
    "#cv.waitKey(0)\n",
    "#cv.destroyAllWindows()"
   ]
  },
  {
   "cell_type": "code",
   "execution_count": null,
   "metadata": {},
   "outputs": [],
   "source": []
  },
  {
   "cell_type": "code",
   "execution_count": 72,
   "metadata": {},
   "outputs": [],
   "source": [
    "eq_img = cube_to_equirectangular_np(cube_map, 2048)\n",
    "cv.imshow('Random Lines', cv.resize(eq_img, (1024, 512)))\n",
    "cv2.imwrite('eq_img.png', eq_img*255)\n",
    "cv.waitKey(0)\n",
    "cv.destroyAllWindows()"
   ]
  },
  {
   "cell_type": "code",
   "execution_count": 73,
   "metadata": {},
   "outputs": [],
   "source": [
    "#b_img = generate_background(size=(1024, 2048)) /255\n",
    "##cv.imshow('Random Lines', b_img)\n",
    "#cv.waitKey(0)\n",
    "#cv.destroyAllWindows()"
   ]
  },
  {
   "cell_type": "code",
   "execution_count": 63,
   "metadata": {},
   "outputs": [],
   "source": [
    "#result_image_ndarray = np.where(eq_img*255 == 254, b_img, eq_img)\n",
    "#result = cv2.resize(result_image_ndarray, (1024, 512))\n",
    "#cv.imshow('Random Lines', result)\n",
    "#cv2.imwrite('result.png', result*255)\n",
    "#cv.waitKey(0)\n",
    "#cv.destroyAllWindows()"
   ]
  },
  {
   "cell_type": "code",
   "execution_count": null,
   "metadata": {},
   "outputs": [],
   "source": []
  },
  {
   "cell_type": "code",
   "execution_count": null,
   "metadata": {},
   "outputs": [],
   "source": []
  }
 ],
 "metadata": {
  "kernelspec": {
   "display_name": "super",
   "language": "python",
   "name": "python3"
  },
  "language_info": {
   "codemirror_mode": {
    "name": "ipython",
    "version": 3
   },
   "file_extension": ".py",
   "mimetype": "text/x-python",
   "name": "python",
   "nbconvert_exporter": "python",
   "pygments_lexer": "ipython3",
   "version": "3.9.18"
  }
 },
 "nbformat": 4,
 "nbformat_minor": 2
}
