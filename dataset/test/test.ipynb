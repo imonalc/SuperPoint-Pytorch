{
 "cells": [
  {
   "cell_type": "code",
   "execution_count": 1,
   "metadata": {},
   "outputs": [],
   "source": [
    "import numpy as np\n",
    "import cv2\n",
    "import cv2 as cv\n",
    "from synthetic_dataset import *\n",
    "from spherical_module import *"
   ]
  },
  {
   "cell_type": "code",
   "execution_count": 482,
   "metadata": {},
   "outputs": [],
   "source": [
    "def draw_interest_points(img, points):\n",
    "    \"\"\" Convert img in RGB and draw in green the interest points \"\"\"\n",
    "    img_rgb = np.stack([img, img, img], axis=2)\n",
    "    for i in range(points.shape[0]):\n",
    "        cv.circle(img_rgb, (points[i][0], points[i][1]), 5, (0, 255, 0), -1)\n",
    "    return img_rgb"
   ]
  },
  {
   "cell_type": "code",
   "execution_count": null,
   "metadata": {},
   "outputs": [],
   "source": []
  },
  {
   "cell_type": "code",
   "execution_count": 483,
   "metadata": {},
   "outputs": [],
   "source": [
    "res_std = 256\n",
    "#b_img = generate_background(size=(1024, 2048)) /255\n",
    "b_img = generate_background(size=(res_std*2, res_std*4))\n",
    "#cv.imshow('Random Lines', cv.resize(b_img, (1024, 512)))\n",
    "#cv2.imwrite('b_img.png', b_img*255)\n",
    "#cv.waitKey(0)\n",
    "#cv.destroyAllWindows()"
   ]
  },
  {
   "cell_type": "code",
   "execution_count": 613,
   "metadata": {},
   "outputs": [],
   "source": [
    "b_images, output_sqr = create_cube_imgs(b_img)\n",
    "images = []\n",
    "all_points_list = []\n",
    "for idx, img in enumerate(b_images):\n",
    "    if len(img.shape) == 3:\n",
    "        img = img[:, :, 0]/255\n",
    "    if img.shape != (res_std, res_std):\n",
    "        img = cv.resize(img, (res_std, res_std))\n",
    "    img *= 255\n",
    "    #points = draw_polygon(img)\n",
    "    #points = draw_lines(img)\n",
    "    #points = draw_multiple_polygons(img)\n",
    "    #points = draw_ellipses(img)\n",
    "    #points = draw_star(img)\n",
    "    #points = draw_checkerboard(img)\n",
    "    #points = draw_stripes(img)\n",
    "    #points = draw_cube(img)\n",
    "\n",
    "    #points = draw_lines(img)\n",
    "    #all_points_list.append(points)\n",
    "\n",
    "    if idx == 1:\n",
    "        points = draw_lines(img)\n",
    "        all_points_list.append(points)\n",
    "        cv.imshow('Random Lines', img)\n",
    "        cv2.imwrite('aaa_img.png', img*255)\n",
    "        cv.waitKey(0)\n",
    "        cv.destroyAllWindows()\n",
    "\n",
    "    #points = gaussian_noise(img)\n",
    "    #print(points)\n",
    "    if False:\n",
    "        img = draw_interest_points(img, points)\n",
    "        img = cv2.cvtColor(img, cv2.COLOR_BGR2GRAY)\n",
    "\n",
    "    images.append(img)"
   ]
  },
  {
   "cell_type": "code",
   "execution_count": 614,
   "metadata": {},
   "outputs": [],
   "source": [
    "# 6枚の画像を1枚のキューブマップ画像に結合する\n",
    "cube_map_size = (res_std * 3, res_std * 4)  # キューブマップのサイズ\n",
    "cube_map = np.zeros(cube_map_size, dtype=np.uint8)\n",
    "\n",
    "positions = [(res_std, res_std), (res_std, 0), (res_std, res_std*3), \n",
    "             (res_std, res_std*2), (0, res_std), (res_std*2, res_std)]\n",
    "for idx, (pos, img) in enumerate(zip(positions, images)):\n",
    "    cube_map[pos[0]:pos[0]+res_std, pos[1]:pos[1]+res_std] = img\n",
    "\n",
    "flag_cube_points_vis = False\n",
    "if flag_cube_points_vis:\n",
    "    for idx, (pos, img) in enumerate(zip(positions, images)):\n",
    "        all_points_list[idx][:, 0] += pos[1]\n",
    "        all_points_list[idx][:, 1] += pos[0]\n",
    "    points = np.concatenate(all_points_list, axis=0)\n",
    "    cube_map = draw_interest_points(cube_map, points)\n",
    "    #cube_map = cv2.cvtColor(cube_map, cv2.COLOR_BGR2GRAY)\n",
    "    cv.imshow('Random Lines', cv.resize(cube_map, (600, 400)))\n",
    "    cv2.imwrite('cube_img.png', cube_map)\n",
    "    cv.waitKey(0)\n",
    "    cv.destroyAllWindows()\n",
    "cv.imshow('Random Lines', cv.resize(cube_map, (600, 400)))\n",
    "cv2.imwrite('cube_img.png', cube_map)\n",
    "cv.waitKey(0)\n",
    "cv.destroyAllWindows()"
   ]
  },
  {
   "cell_type": "code",
   "execution_count": null,
   "metadata": {},
   "outputs": [],
   "source": []
  },
  {
   "cell_type": "code",
   "execution_count": 615,
   "metadata": {},
   "outputs": [],
   "source": [
    "import numpy as np\n",
    "\n",
    "def cube_to_equirectangular(x_cube, y_cube, idx, cube_size=256, equi_hw=(512, 1024)):\n",
    "    face_idx = [\"front\", \"left\", \"back\", \"right\", \"top\", \"bottom\"]\n",
    "    face = face_idx[idx]\n",
    "\n",
    "    # キューブマップの中心からの相対座標\n",
    "    x_rel = (x_cube - cube_size / 2) / (cube_size /2)\n",
    "    y_rel = (y_cube - cube_size / 2) / (cube_size /2)\n",
    "    \n",
    "    # 各面に応じた変換\n",
    "    if face == \"front\":\n",
    "        theta = np.arctan2(x_rel, 1)  # 正面を向いているときのθ\n",
    "        phi = np.arcsin(y_rel / np.sqrt(1+y_rel**2))\n",
    "        print(phi)\n",
    "    elif face == \"top\":\n",
    "        theta = np.arctan2(y_rel, x_rel)\n",
    "        phi = np.pi / 2\n",
    "    elif face == \"bottom\":\n",
    "        theta = np.arctan2(y_rel, x_rel)\n",
    "        phi = -np.pi / 2\n",
    "    elif face == \"left\":\n",
    "        theta = np.arctan2(-x_rel, -1) - np.pi  # xとzの関係を用いてθを修正\n",
    "        phi = np.arcsin(y_rel)\n",
    "    elif face == \"right\":\n",
    "        theta = np.arctan2(x_rel, 1)  # xとzの関係を用いてθを修正\n",
    "        phi = np.arcsin(y_rel)\n",
    "    elif face == \"back\":\n",
    "        theta = np.arctan2(-x_rel, -1)  # 背面を向いているときのθ\n",
    "        phi = np.arcsin(y_rel)\n",
    "    else:\n",
    "        return None\n",
    "    \n",
    "    # 球面座標から等角投影画像へのマッピング\n",
    "    equi_height, equi_width = equi_hw\n",
    "    x_equi = (theta + np.pi) / (2 * np.pi) * equi_width\n",
    "    y_equi = (phi + np.pi/2) / np.pi * equi_height\n",
    "    \n",
    "    return x_equi, y_equi"
   ]
  },
  {
   "cell_type": "code",
   "execution_count": 616,
   "metadata": {},
   "outputs": [
    {
     "name": "stdout",
     "output_type": "stream",
     "text": [
      "-0.7853981633974482\n",
      "0.7853981633974482\n"
     ]
    },
    {
     "data": {
      "text/plain": [
       "(384.0, 384.0)"
      ]
     },
     "execution_count": 616,
     "metadata": {},
     "output_type": "execute_result"
    }
   ],
   "source": [
    "cube_to_equirectangular(0, 0, 0)\n",
    "cube_to_equirectangular(0, 256, 0)"
   ]
  },
  {
   "cell_type": "code",
   "execution_count": null,
   "metadata": {},
   "outputs": [],
   "source": []
  },
  {
   "cell_type": "code",
   "execution_count": 617,
   "metadata": {},
   "outputs": [
    {
     "name": "stdout",
     "output_type": "stream",
     "text": [
      "-0.18534794999569476\n",
      "-0.5415676053918449\n"
     ]
    }
   ],
   "source": [
    "points_sph = []\n",
    "for idx in range(len(all_points_list)):\n",
    "    points_tgt = all_points_list[idx]\n",
    "    for (x_cube, y_cube) in points_tgt:\n",
    "        x_sph, y_sph = cube_to_equirectangular(x_cube, y_cube, idx)\n",
    "        #print(x_cube, y_cube)\n",
    "        #print(x_sph, y_sph)\n",
    "        x_sph = int(x_sph)\n",
    "        y_sph = int(y_sph)\n",
    "        points_sph.append([x_sph, y_sph])\n",
    "points_sph = np.array(points_sph)"
   ]
  },
  {
   "cell_type": "code",
   "execution_count": 618,
   "metadata": {},
   "outputs": [
    {
     "name": "stdout",
     "output_type": "stream",
     "text": [
      "[array([[ 69, 104],\n",
      "       [140,  51]])]\n"
     ]
    }
   ],
   "source": [
    "print(all_points_list)"
   ]
  },
  {
   "cell_type": "code",
   "execution_count": 619,
   "metadata": {},
   "outputs": [
    {
     "name": "stdout",
     "output_type": "stream",
     "text": [
      "(512, 1024)\n"
     ]
    }
   ],
   "source": [
    "eq_img = cube_to_equirectangular_np(cube_map, res_std*4)\n",
    "print(eq_img.shape)\n",
    "if True:\n",
    "    eq_img = draw_interest_points(eq_img, points_sph)\n",
    "    #eq_img = cv2.cvtColor(img, cv2.COLOR_BGR2GRAY)\n",
    "    cv.imshow('Random Lines', cv.resize(eq_img, (res_std*4, res_std*2)))\n",
    "    cv2.imwrite('eq_img.png', eq_img*255)\n",
    "    cv.waitKey(0)\n",
    "    cv.destroyAllWindows()"
   ]
  },
  {
   "cell_type": "code",
   "execution_count": 611,
   "metadata": {},
   "outputs": [
    {
     "data": {
      "text/plain": [
       "array([[ 33, 255],\n",
       "       [242, 253]])"
      ]
     },
     "execution_count": 611,
     "metadata": {},
     "output_type": "execute_result"
    }
   ],
   "source": [
    "points"
   ]
  },
  {
   "cell_type": "code",
   "execution_count": 612,
   "metadata": {},
   "outputs": [],
   "source": [
    "#b_img = generate_background(size=(1024, 2048)) /255\n",
    "##cv.imshow('Random Lines', b_img)\n",
    "#cv.waitKey(0)\n",
    "#cv.destroyAllWindows()"
   ]
  },
  {
   "cell_type": "code",
   "execution_count": 492,
   "metadata": {},
   "outputs": [],
   "source": [
    "#result_image_ndarray = np.where(eq_img*255 == 254, b_img, eq_img)\n",
    "#result = cv2.resize(result_image_ndarray, (1024, 512))\n",
    "#cv.imshow('Random Lines', result)\n",
    "#cv2.imwrite('result.png', result*255)\n",
    "#cv.waitKey(0)\n",
    "#cv.destroyAllWindows()"
   ]
  },
  {
   "cell_type": "code",
   "execution_count": null,
   "metadata": {},
   "outputs": [],
   "source": []
  },
  {
   "cell_type": "code",
   "execution_count": null,
   "metadata": {},
   "outputs": [],
   "source": []
  },
  {
   "cell_type": "code",
   "execution_count": null,
   "metadata": {},
   "outputs": [],
   "source": []
  }
 ],
 "metadata": {
  "kernelspec": {
   "display_name": "super",
   "language": "python",
   "name": "python3"
  },
  "language_info": {
   "codemirror_mode": {
    "name": "ipython",
    "version": 3
   },
   "file_extension": ".py",
   "mimetype": "text/x-python",
   "name": "python",
   "nbconvert_exporter": "python",
   "pygments_lexer": "ipython3",
   "version": "3.9.18"
  }
 },
 "nbformat": 4,
 "nbformat_minor": 2
}
